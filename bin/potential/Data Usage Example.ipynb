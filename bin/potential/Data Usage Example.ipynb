{
 "cells": [
  {
   "cell_type": "markdown",
   "id": "251a8287",
   "metadata": {
    "pycharm": {
     "name": "#%% md\n"
    }
   },
   "source": [
    "In order to load a file we use [fiona](https://github.com/Toblerity/Fiona)"
   ]
  },
  {
   "cell_type": "code",
   "execution_count": 1,
   "id": "6961ce6e",
   "metadata": {
    "pycharm": {
     "name": "#%%\n"
    }
   },
   "outputs": [],
   "source": [
    "import fiona\n",
    "from shapely.wkt import loads\n",
    "from shapely.geometry import shape\n",
    "import numpy as np\n",
    "from pprint import pprint"
   ]
  },
  {
   "cell_type": "code",
   "execution_count": 2,
   "id": "3e542d11",
   "metadata": {
    "pycharm": {
     "name": "#%%\n"
    }
   },
   "outputs": [],
   "source": [
    "desired_footprint = loads(\n",
    "    \"POLYGON ((8.507258495787331 47.36630071672813, 8.507194818858338 47.36627707321725, 8.50718797218813 47.36628557397753, 8.507063333295594 47.366239297804114, 8.507063342324688 47.36623928659597, 8.50684791972349 47.36615928441324, 8.50663515187207 47.36608026462807, 8.506635147463841 47.36608027010266, 8.506510216160828 47.36603386254508, 8.506516197089956 47.366026422258926, 8.506448545473718 47.366001285902954, 8.506368130599874 47.36610123411666, 8.506563688811562 47.366173851455706, 8.50656369036007 47.366173849530526, 8.506988922194576 47.366331785799886, 8.506988924911536 47.36633178242341, 8.507177696213391 47.3664018924277, 8.507217715202716 47.366351789323986, 8.507258495787331 47.36630071672813))\"\n",
    ")"
   ]
  },
  {
   "cell_type": "code",
   "execution_count": 3,
   "outputs": [],
   "source": [
    "# Let's get the right filename\n",
    "centroid = desired_footprint.centroid\n",
    "simulation_type = \"sun\"\n",
    "filename = (\n",
    "    f\"{simulation_type}_N{int(centroid.y * 100):05d}_E{int(centroid.x * 100):05d}.fgb\"\n",
    ")"
   ],
   "metadata": {
    "collapsed": false,
    "pycharm": {
     "name": "#%%\n"
    }
   }
  },
  {
   "cell_type": "code",
   "execution_count": 4,
   "id": "2e3ad2d9",
   "metadata": {
    "pycharm": {
     "name": "#%%\n"
    }
   },
   "outputs": [],
   "source": [
    "points_of_interest = []\n",
    "with fiona.open(filename) as data:\n",
    "    data_filtered = data.filter(bbox=desired_footprint.bounds)\n",
    "    for obs_point in data_filtered:\n",
    "        if (\n",
    "            shape(obs_point[\"geometry\"]).within(desired_footprint)\n",
    "            and obs_point[\"properties\"][\"level\"] == 2\n",
    "        ):\n",
    "            points_of_interest.append(obs_point)"
   ]
  },
  {
   "cell_type": "code",
   "execution_count": 5,
   "outputs": [
    {
     "name": "stdout",
     "output_type": "stream",
     "text": [
      "{'count': 651,\n",
      " 'max': 14.40117,\n",
      " 'mean': 2.3873358678955454,\n",
      " 'median': 1.41579,\n",
      " 'min': 0.00417,\n",
      " 'p20': 0.4235,\n",
      " 'p80': 3.97665,\n",
      " 'stddev': 2.5077285180785847}\n"
     ]
    }
   ],
   "source": [
    "# Now we have the observations and the values. We can check some statistics\n",
    "values = [p[\"properties\"][\"201806211600\"] for p in points_of_interest]\n",
    "stats = dict(\n",
    "    p20=float(np.percentile(values, 20)),\n",
    "    p80=float(np.percentile(values, 80)),\n",
    "    median=float(np.median(values)),\n",
    "    min=float(np.min(values)),\n",
    "    max=float(np.max(values)),\n",
    "    mean=float(np.mean(values)),\n",
    "    stddev=float(np.std(values)),\n",
    "    count=len(values),\n",
    ")\n",
    "pprint(stats)"
   ],
   "metadata": {
    "collapsed": false,
    "pycharm": {
     "name": "#%%\n"
    }
   }
  }
 ],
 "metadata": {
  "kernelspec": {
   "display_name": "Python 3 (ipykernel)",
   "language": "python",
   "name": "python3"
  },
  "language_info": {
   "codemirror_mode": {
    "name": "ipython",
    "version": 3
   },
   "file_extension": ".py",
   "mimetype": "text/x-python",
   "name": "python",
   "nbconvert_exporter": "python",
   "pygments_lexer": "ipython3",
   "version": "3.10.4"
  }
 },
 "nbformat": 4,
 "nbformat_minor": 5
}